{
 "cells": [
  {
   "metadata": {},
   "cell_type": "markdown",
   "source": "# Explanation",
   "id": "f2080bcf51c7ddf8"
  },
  {
   "metadata": {},
   "cell_type": "markdown",
   "source": [
    "This notebook reads results from WandB and plots the Pareto frontiers for different experiments.\n",
    "1. specify the project and entity name in cell below\n",
    "2. specify plotting options in the most bottom cell ('experiment_specs')\n",
    "3. if desired, specify save directory in the most bottom cell (save_dir = r'...')"
   ],
   "id": "f208b61a619a3bc9"
  },
  {
   "metadata": {
    "ExecuteTime": {
     "end_time": "2025-04-18T09:35:08.435194Z",
     "start_time": "2025-04-18T09:35:06.358791Z"
    }
   },
   "cell_type": "code",
   "outputs": [],
   "execution_count": 1,
   "source": [
    "# Specify the project and entity\n",
    "project_name = 'yourWandbProjectName'\n",
    "entity_name = 'yourWandbEnityName'"
   ],
   "id": "cb11e78f3c1cec6"
  },
  {
   "cell_type": "markdown",
   "source": [
    "# Load runs froms Wandb"
   ],
   "metadata": {
    "collapsed": false
   },
   "id": "37ede610c90c40aa"
  },
  {
   "metadata": {},
   "cell_type": "code",
   "outputs": [],
   "execution_count": null,
   "source": [
    "import wandb\n",
    "import os\n",
    "from itertools import product\n",
    "from paretoset import paretoset  # Library for Pareto frontiers\n",
    "import pandas as pd\n",
    "import matplotlib.pyplot as plt"
   ],
   "id": "f2de5425a1b7a286"
  },
  {
   "metadata": {
    "ExecuteTime": {
     "end_time": "2025-04-18T09:35:57.639008Z",
     "start_time": "2025-04-18T09:35:16.286184Z"
    }
   },
   "cell_type": "code",
   "outputs": [
    {
     "data": {
      "text/plain": [
       "          _step\n",
       "run_id         \n",
       "037p7eko     40\n",
       "0egqoio5     40\n",
       "0eq39x5q     79\n",
       "0jwvqg9l     40\n",
       "0rmqqjbm     80\n",
       "...         ...\n",
       "z5efzfx2     46\n",
       "zazzolw4     60\n",
       "zm1352r7     83\n",
       "zpldx4ql     40\n",
       "zswxy8qg     40\n",
       "\n",
       "[97 rows x 1 columns]"
      ],
      "text/html": [
       "<div>\n",
       "<style scoped>\n",
       "    .dataframe tbody tr th:only-of-type {\n",
       "        vertical-align: middle;\n",
       "    }\n",
       "\n",
       "    .dataframe tbody tr th {\n",
       "        vertical-align: top;\n",
       "    }\n",
       "\n",
       "    .dataframe thead th {\n",
       "        text-align: right;\n",
       "    }\n",
       "</style>\n",
       "<table border=\"1\" class=\"dataframe\">\n",
       "  <thead>\n",
       "    <tr style=\"text-align: right;\">\n",
       "      <th></th>\n",
       "      <th>_step</th>\n",
       "    </tr>\n",
       "    <tr>\n",
       "      <th>run_id</th>\n",
       "      <th></th>\n",
       "    </tr>\n",
       "  </thead>\n",
       "  <tbody>\n",
       "    <tr>\n",
       "      <th>037p7eko</th>\n",
       "      <td>40</td>\n",
       "    </tr>\n",
       "    <tr>\n",
       "      <th>0egqoio5</th>\n",
       "      <td>40</td>\n",
       "    </tr>\n",
       "    <tr>\n",
       "      <th>0eq39x5q</th>\n",
       "      <td>79</td>\n",
       "    </tr>\n",
       "    <tr>\n",
       "      <th>0jwvqg9l</th>\n",
       "      <td>40</td>\n",
       "    </tr>\n",
       "    <tr>\n",
       "      <th>0rmqqjbm</th>\n",
       "      <td>80</td>\n",
       "    </tr>\n",
       "    <tr>\n",
       "      <th>...</th>\n",
       "      <td>...</td>\n",
       "    </tr>\n",
       "    <tr>\n",
       "      <th>z5efzfx2</th>\n",
       "      <td>46</td>\n",
       "    </tr>\n",
       "    <tr>\n",
       "      <th>zazzolw4</th>\n",
       "      <td>60</td>\n",
       "    </tr>\n",
       "    <tr>\n",
       "      <th>zm1352r7</th>\n",
       "      <td>83</td>\n",
       "    </tr>\n",
       "    <tr>\n",
       "      <th>zpldx4ql</th>\n",
       "      <td>40</td>\n",
       "    </tr>\n",
       "    <tr>\n",
       "      <th>zswxy8qg</th>\n",
       "      <td>40</td>\n",
       "    </tr>\n",
       "  </tbody>\n",
       "</table>\n",
       "<p>97 rows × 1 columns</p>\n",
       "</div>"
      ]
     },
     "execution_count": 2,
     "metadata": {},
     "output_type": "execute_result"
    }
   ],
   "execution_count": 2,
   "source": [
    "# Initialize the API object\n",
    "api = wandb.Api()\n",
    "\n",
    "# Fetch all runs in the project\n",
    "runs = api.runs(f'{entity_name}/{project_name}')\n",
    "run_dataframes = []\n",
    "\n",
    "for run in runs:\n",
    "    df = run.history()\n",
    "    df['run_id'] = run.id  # Add the run ID to the DataFrame for tracking\n",
    "    run_dataframes.append(df)\n",
    "\n",
    "# Combine and group all run histories into a single DataFrame\n",
    "all_run_data = pd.concat(run_dataframes, ignore_index=True)\n",
    "all_run_data.groupby('run_id').agg({'_step': 'max'})"
   ],
   "id": "63c4be7f3fe46e8d"
  },
  {
   "metadata": {},
   "cell_type": "code",
   "outputs": [],
   "execution_count": null,
   "source": [
    "# Apply early stopping. Optionally: first smooth the composite validation loss (the lower the ema_alpha, the more smoothing. For no smoothing ,set ema_alpha=1)\n",
    "def apply_early_stopping(df, unique_id, loss_col, fixed_step=None, ema_alpha=1.0, min_step=15):\n",
    "\n",
    "    # Ensure there are no missing values in the loss column\n",
    "    if df[loss_col].isnull().any():\n",
    "        print(f\"Warning: Missing values found in '{loss_col}'. Handling missing values.\")\n",
    "        df[loss_col].fillna(float('inf'), inplace=True)\n",
    "\n",
    "    # Filter the DataFrame to include only steps above min_step\n",
    "    df = df[df['_step'] >= min_step]\n",
    "\n",
    "    if fixed_step is not None:\n",
    "        # Select the observation with the specified _step for each run_id\n",
    "        all_run_data = df[df['_step'] == fixed_step]\n",
    "    else:\n",
    "        # Apply EMA smoothing to the loss column\n",
    "        df['smoothed_loss'] = df.groupby(unique_id)[loss_col].transform(lambda x: x.ewm(alpha=ema_alpha).mean())\n",
    "\n",
    "        # Plot the original and smoothed loss for a single run (example: first run)\n",
    "        example_run_id = df[unique_id].iloc[0]\n",
    "        example_run_data = df[df[unique_id] == example_run_id]\n",
    "\n",
    "        # Early stopping: select the observation with the lowest composite loss for each run_id\n",
    "        all_run_data = df.loc[df.groupby(unique_id)['smoothed_loss'].idxmin()]\n",
    "\n",
    "    return all_run_data\n",
    "\n",
    "df = apply_early_stopping(all_run_data, 'run_id', 'composite_loss_val', fixed_step=None, ema_alpha=0.99)"
   ],
   "id": "269fd6165d415595"
  },
  {
   "metadata": {},
   "cell_type": "markdown",
   "source": "# Analysis and plot",
   "id": "89fed09931fc4fe0"
  },
  {
   "metadata": {
    "ExecuteTime": {
     "end_time": "2025-04-18T09:36:28.806920Z",
     "start_time": "2025-04-18T09:36:28.792919Z"
    }
   },
   "cell_type": "code",
   "source": [
    "plt.style.use('science')\n",
    "\n",
    "# Configuration for plotting\n",
    "plotting = {\n",
    "    1: False, 2: True,\n",
    "    'nonPareto': True, 'plotLambda': False, 'connectDots': True, 'filter_plot_xaxis': 0.0\n",
    "}\n",
    "\n",
    "\n",
    "# Filter DataFrame based on recall (set coeff to 0.0 for no filtering)\n",
    "def filter_by_recall(df, coeff=0.0, recall_column='val_recall'):\n",
    "    recall_tau_reference = df[df['lam'] == 0.00][recall_column].values[0]\n",
    "    return df[df[recall_column] > coeff * recall_tau_reference]\n",
    "\n",
    "\n",
    "# Load DataFrame based on experiment specifications\n",
    "def load_dataframe(experiment_specs, df):\n",
    "    filtered_df = df[\n",
    "        (df['bias_ratio'] == experiment_specs['bias_ratio']) &\n",
    "        (df['bin_width'] == experiment_specs['bin_width']) &\n",
    "        (df['pct_a'] == experiment_specs['pct_a'])\n",
    "        ]\n",
    "    return filter_by_recall(filtered_df, experiment_specs['tau_recall_coeff'], experiment_specs['tau_recall_column'])\n",
    "\n",
    "\n",
    "# Plot Pareto frontiers\n",
    "def plot_pareto_frontier(group, xAxis, yAxis):\n",
    "    mask = paretoset(group[[xAxis, yAxis]], sense=[\"min\", \"max\"])\n",
    "    return group[mask]\n",
    "\n",
    "\n",
    "# Generate the legend labels based on experiment configurations\n",
    "def generate_legend_label(name, local_reg):\n",
    "    legend_labels = {\n",
    "        1: 'dp', 2: 'wasserstein'\n",
    "    }\n",
    "    fair_reg_label = legend_labels.get(name, f'fair_reg={name}')\n",
    "    local_reg_label = 'Local reg.' if local_reg == 1 else 'Global reg.'\n",
    "    return f'{local_reg_label}'\n",
    "\n",
    "\n",
    "# Plot data into the subplot axis\n",
    "def plot_data(df, plotting, experiment_specs, ax, xAxis, yAxis, show_legend=False):\n",
    "    # Sort and group the DataFrame by 'fair_reg' and 'local_reg'\n",
    "    df = df.sort_values(['fair_reg', 'local_reg', xAxis, yAxis])\n",
    "    groups = df.groupby(['fair_reg', 'local_reg'])\n",
    "    colors_local, colors_global = plt.cm.tab10, plt.cm.tab20\n",
    "\n",
    "    for idx, (name, group) in enumerate(groups):\n",
    "        if plotting.get(name[0], False):\n",
    "            color = colors_local(idx) if name[1] == 1 else colors_global(idx)\n",
    "            label = generate_legend_label(name[0], name[1])\n",
    "\n",
    "            # Filter x-axis if necessary\n",
    "            if plotting['filter_plot_xaxis']:\n",
    "                group = group[group[xAxis] > plotting['filter_plot_xaxis']]\n",
    "\n",
    "            # Extract Pareto frontier\n",
    "            pareto_df = plot_pareto_frontier(group, xAxis, yAxis)\n",
    "\n",
    "            # Plot non-Pareto points\n",
    "            if plotting['nonPareto']:\n",
    "                ax.plot(group[xAxis], group[yAxis], marker='o', linestyle='None', alpha=0.5, color=color, markersize=2)\n",
    "\n",
    "            # Add lambda values if enabled\n",
    "            if plotting['plotLambda']:\n",
    "                for _, row in group.iterrows():\n",
    "                    ax.text(row[xAxis], row[yAxis], f'{row[\"lam\"]:.2f}', fontsize=8, alpha=0.5, ha='right',\n",
    "                            color='cyan')\n",
    "\n",
    "            # Plot Pareto points\n",
    "            if plotting['connectDots']:\n",
    "                ax.plot(pareto_df[xAxis], pareto_df[yAxis], marker='o', linestyle='-', label=label, color=color,\n",
    "                        markersize=2)\n",
    "            else:\n",
    "                ax.plot(pareto_df[xAxis], pareto_df[yAxis], marker='o', linestyle='None', label=label, color=color,\n",
    "                        markersize=2)\n",
    "\n",
    "    # Highlight observations where 'lam == 0' and 'local_reg == 0' with a red star\n",
    "    biased_model_df = df[(df['lam'] == 0) & (df['local_reg'] == 0)]\n",
    "    ax.plot(biased_model_df[xAxis], biased_model_df[yAxis], marker='*', linestyle='None', color='red', markersize=5,\n",
    "            label='Biased model')\n",
    "\n",
    "    # Rename axes\n",
    "    xAxis_label = r'$\\text{ABCC}_{\\tau}$' if xAxis == 'test_abcc_local' else (\n",
    "        r'$\\text{ABPC}_{\\tau}$' if xAxis == 'test_abpc_local' else xAxis)\n",
    "    yAxis_label = r'$\\text{AUC-PR}_{\\tau}$' if yAxis == 'test_auc_pr_local_tau' else yAxis\n",
    "\n",
    "    ax.set_xlabel(xAxis_label)\n",
    "    ax.set_ylabel(yAxis_label)\n",
    "\n",
    "    ax.set_title(fr'$\\tau$: {experiment_specs[\"pct_a\"]}')\n",
    "\n",
    "    if show_legend:\n",
    "        ax.legend(fontsize=6)"
   ],
   "id": "e37d8090092128b5",
   "outputs": [],
   "execution_count": 5
  },
  {
   "metadata": {
    "ExecuteTime": {
     "end_time": "2025-04-18T09:38:02.446335Z",
     "start_time": "2025-04-18T09:38:00.846994Z"
    }
   },
   "cell_type": "code",
   "source": [
    "# Plotting specifications\n",
    "experiment_specs = {\n",
    "    'bias_ratio': [0.00],           # only relevant for TelecomChurn\n",
    "    'pct_a': [0.4,0.5,0.7,0.8],     # This is \\tau\n",
    "}\n",
    "\n",
    "# Axes to be used in the plots\n",
    "xAxes = ['test_abpc_local','test_abcc_local']\n",
    "yAxes = ['test_auc_pr_local_tau']\n",
    "\n",
    "# Iterate over combinations of axes\n",
    "for xAxis in xAxes:\n",
    "    for yAxis in yAxes:\n",
    "        # Create grid of subplots\n",
    "        num_rows, num_cols = len(experiment_specs['bias_ratio']), len(experiment_specs['pct_a'])\n",
    "        if num_rows == 1 and num_cols == 1:\n",
    "            fig, ax = plt.subplots(figsize=(2.5 * num_cols, 2.5 * num_rows), sharex=True, sharey=True)\n",
    "            axes = [ax]\n",
    "        else:\n",
    "            fig, axes = plt.subplots(num_rows, num_cols, figsize=(2.5 * num_cols, 2.5* num_rows), sharex=True, sharey=True)\n",
    "            axes = axes.ravel()\n",
    "\n",
    "        # Determine the index for the top-right panel (lowest bias_ratio, highest pct_a)\n",
    "        sorted_combinations = sorted(product(experiment_specs['bias_ratio'], experiment_specs['pct_a']), key=lambda x: (x[0], -x[1]))\n",
    "        legend_index = len(sorted_combinations) - 1\n",
    "\n",
    "        # Iterate over combinations of bias_rate and pct_a, and plot into the corresponding axis\n",
    "        for idx, (bias_ratio, pct_a) in enumerate(product(experiment_specs['bias_ratio'], experiment_specs['pct_a'])):\n",
    "            current_specs = {**experiment_specs, 'bias_ratio': bias_ratio, 'pct_a': pct_a}\n",
    "            _df = load_dataframe(current_specs, df)\n",
    "            show_legend = (idx == 3)  # Show legend only for the top-right subplot\n",
    "            plot_data(_df, plotting, current_specs, axes[idx], xAxis, yAxis, show_legend=show_legend)\n",
    "\n",
    "        # Adjust layout and display the grid\n",
    "        plt.tight_layout()\n",
    "        \n",
    "        print(f'{xAxis} vs. {yAxis}')\n",
    "        \n",
    "        #\n",
    "        save_dir = r'...'\n",
    "        os.makedirs(save_dir, exist_ok=True)\n",
    "        filename = f\"adult_{xAxis}-{yAxis}0.4,0.5,0.7,0.8.pdf\"\n",
    "        \n",
    "        save_path = os.path.join(save_dir, filename)\n",
    "        #plt.savefig(save_path, dpi=300, format='pdf')  # Save as PDF in save_dir\n",
    "\n",
    "        plt.show()"
   ],
   "id": "bb3c3ce7e6d27092",
   "outputs": [
    {
     "name": "stdout",
     "output_type": "stream",
     "text": [
      "test_abpc_local vs. test_auc_pr_local_tau\n"
     ]
    },
    {
     "data": {
      "text/plain": [
       "<Figure size 1000x250 with 4 Axes>"
      ],
      "image/png": "[encoded data removed]"
     },
     "metadata": {},
     "output_type": "display_data"
    },
    {
     "name": "stdout",
     "output_type": "stream",
     "text": [
      "test_abcc_local vs. test_auc_pr_local_tau\n"
     ]
    },
    {
     "data": {
      "text/plain": [
       "<Figure size 1000x250 with 4 Axes>"
      ],
      "image/png": "[encoded data removed]"
     },
     "metadata": {},
     "output_type": "display_data"
    }
   ],
   "execution_count": 8
  }
 ],
 "metadata": {
  "kernelspec": {
   "display_name": "Python 3",
   "language": "python",
   "name": "python3"
  },
  "language_info": {
   "codemirror_mode": {
    "name": "ipython",
    "version": 2
   },
   "file_extension": ".py",
   "mimetype": "text/x-python",
   "name": "python",
   "nbconvert_exporter": "python",
   "pygments_lexer": "ipython2",
   "version": "2.7.6"
  }
 },
 "nbformat": 4,
 "nbformat_minor": 5
}

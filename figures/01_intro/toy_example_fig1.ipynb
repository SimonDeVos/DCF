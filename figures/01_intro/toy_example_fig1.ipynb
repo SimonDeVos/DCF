{
 "cells": [
  {
   "metadata": {
    "ExecuteTime": {
     "end_time": "2025-04-16T09:44:56.320422Z",
     "start_time": "2025-04-16T09:44:56.302428Z"
    }
   },
   "cell_type": "code",
   "source": "#!pip install SciencePlots",
   "id": "cd478488d045c5c5",
   "outputs": [],
   "execution_count": 9
  },
  {
   "metadata": {
    "collapsed": true,
    "ExecuteTime": {
     "end_time": "2025-04-16T09:44:56.335424Z",
     "start_time": "2025-04-16T09:44:56.327429Z"
    }
   },
   "cell_type": "code",
   "source": [
    "import numpy as np\n",
    "np.random.seed(0)\n",
    "\n",
    "import matplotlib.pyplot as plt\n",
    "import seaborn as sns\n",
    "import pandas as pd\n",
    "\n",
    "import scienceplots\n",
    "\n",
    "import os\n",
    "import matplotlib.pyplot as plt\n",
    "from scipy.stats import gaussian_kde"
   ],
   "id": "initial_id",
   "outputs": [],
   "execution_count": 10
  },
  {
   "metadata": {
    "ExecuteTime": {
     "end_time": "2025-04-16T09:44:56.383427Z",
     "start_time": "2025-04-16T09:44:56.369426Z"
    }
   },
   "cell_type": "code",
   "source": [
    "# set plot to science:\n",
    "plt.style.use('science')\n",
    "\n",
    "# set path to save figure:\n",
    "path = r\"C:\\Users\\...\\...\\...\""
   ],
   "id": "5e09067273f8571d",
   "outputs": [],
   "execution_count": 11
  },
  {
   "metadata": {
    "ExecuteTime": {
     "end_time": "2025-04-16T09:44:56.429424Z",
     "start_time": "2025-04-16T09:44:56.416423Z"
    }
   },
   "cell_type": "code",
   "source": [
    "# Force white background and clear ticks\n",
    "plt.rcParams.update({\n",
    "    \"figure.facecolor\": \"white\",       # Figure background\n",
    "    \"axes.facecolor\": \"white\",         # Axes background\n",
    "    \"savefig.facecolor\": \"white\",      # Saved figure background\n",
    "    \"xtick.color\": \"black\",            # X tick color\n",
    "    \"ytick.color\": \"black\",            # Y tick color\n",
    "    \"axes.edgecolor\": \"black\",         # Axis border\n",
    "    \"axes.labelcolor\": \"black\",        # Axis label color\n",
    "    \"text.color\": \"black\",             # General text color\n",
    "#    \"grid.color\": \"lightgray\"          # Optional: adjust grid color\n",
    "})"
   ],
   "id": "408c867865d56d7d",
   "outputs": [],
   "execution_count": 12
  },
  {
   "metadata": {
    "ExecuteTime": {
     "end_time": "2025-04-16T09:44:56.522424Z",
     "start_time": "2025-04-16T09:44:56.508426Z"
    }
   },
   "cell_type": "code",
   "source": [
    "\n",
    "# Function to generate samples from a normal distribution truncated to [0,1]\n",
    "def truncated_normal(loc, scale, size):\n",
    "    samples = np.random.normal(loc, scale, size)\n",
    "    return np.clip(samples, 0, 1)\n",
    "\n"
   ],
   "id": "3ab5d60684b9c88b",
   "outputs": [],
   "execution_count": 13
  },
  {
   "metadata": {
    "ExecuteTime": {
     "end_time": "2025-04-16T09:44:56.629420Z",
     "start_time": "2025-04-16T09:44:56.609419Z"
    }
   },
   "cell_type": "code",
   "source": [
    "# Generate red and blue data\n",
    "red_data = np.concatenate([\n",
    "    truncated_normal(0.15, 0.10, 2000),\n",
    "    truncated_normal(0.90, 0.08, 2000)\n",
    "])\n",
    "\n",
    "blue_data = np.concatenate([\n",
    "\n",
    "    truncated_normal(0.15, 0.08, 200),\n",
    "\n",
    "    truncated_normal(0.65, 0.14, 400),\n",
    "    truncated_normal(0.70, 0.20, 1400),\n",
    "    truncated_normal(0.75, 0.16, 500),\n",
    "\n",
    "])"
   ],
   "id": "3ece3abc24a6d4ad",
   "outputs": [],
   "execution_count": 15
  },
  {
   "metadata": {
    "ExecuteTime": {
     "end_time": "2025-04-16T09:44:56.675605Z",
     "start_time": "2025-04-16T09:44:56.662608Z"
    }
   },
   "cell_type": "code",
   "source": [
    "# Generate red and blue data\n",
    "red_data_fair = np.concatenate([\n",
    "    truncated_normal(0.15, 0.10, 2000),\n",
    "    truncated_normal(0.70, 0.10, 500),\n",
    "    truncated_normal(0.80, 0.10, 750),\n",
    "    truncated_normal(0.90, 0.08, 750)\n",
    "])\n",
    "\n",
    "blue_data_fair = np.concatenate([\n",
    "    truncated_normal(0.15, 0.08, 200),\n",
    "\n",
    "    truncated_normal(0.40, 0.10, 200),\n",
    "    truncated_normal(0.50, 0.08, 100),\n",
    "    truncated_normal(0.55, 0.08, 500),\n",
    "    truncated_normal(0.65, 0.14, 500),\n",
    "    truncated_normal(0.70, 0.20, 500),\n",
    "    truncated_normal(0.75, 0.16, 200),\n",
    "    truncated_normal(0.80, 0.06, 200),\n",
    "    truncated_normal(0.85, 0.06, 100),\n",
    "    truncated_normal(0.90, 0.06, 200),\n",
    "])"
   ],
   "id": "a11cb6c70894aed",
   "outputs": [],
   "execution_count": 16
  },
  {
   "metadata": {
    "ExecuteTime": {
     "end_time": "2025-04-16T09:44:56.786609Z",
     "start_time": "2025-04-16T09:44:56.757607Z"
    }
   },
   "cell_type": "code",
   "source": [
    "def demographic_parity(y_pred, z_values, threshold=0.5):\n",
    "    \"\"\"\n",
    "    Compute the demographic parity between two groups.\n",
    "\n",
    "    Parameters:\n",
    "    y_pred (array-like): Predicted values.\n",
    "    z_values (array-like): Binary values indicating the group membership of each sample.\n",
    "    threshold (float, optional): Threshold value for the predicted values. Default is 0.5.\n",
    "\n",
    "    Returns:\n",
    "    float: The computed demographic parity value.\n",
    "    \"\"\"\n",
    "    # Extract the predicted values for each group and apply the threshold if it is not None\n",
    "    y_z_1 = y_pred[z_values == 1] > threshold if threshold else y_pred[z_values == 1]\n",
    "    y_z_0 = y_pred[z_values == 0] > threshold if threshold else y_pred[z_values == 0]\n",
    "\n",
    "    parity = abs(y_z_1.mean() - y_z_0.mean())\n",
    "\n",
    "    return parity\n",
    "\n",
    "# Compute the absolute average differences\n",
    "tau_values = np.linspace(0, 1, 50)\n",
    "average_differences = []\n",
    "average_differences_fair = []\n",
    "\n",
    "for tau in tau_values:\n",
    "    z_values = np.concatenate([np.ones(len(red_data)), np.zeros(len(blue_data))])\n",
    "    y_pred = np.concatenate([red_data, blue_data])\n",
    "    avg_diff = demographic_parity(y_pred, z_values, threshold=tau)\n",
    "    average_differences.append(avg_diff)\n",
    "\n",
    "    z_values_fair = np.concatenate([np.ones(len(red_data_fair)), np.zeros(len(blue_data_fair))])\n",
    "    y_pred_fair = np.concatenate([red_data_fair, blue_data_fair])\n",
    "    avg_diff_fair = demographic_parity(y_pred_fair, z_values_fair, threshold=tau)\n",
    "    average_differences_fair.append(avg_diff_fair)\n",
    "\n",
    "# Convert to a pandas Series for easy rolling average (ignores NaNs by default)\n",
    "average_differences = pd.Series(average_differences)\n",
    "smoothed_differences = average_differences.rolling(window=3, center=True, min_periods=1).mean()\n",
    "\n",
    "average_differences_fair = pd.Series(average_differences_fair)\n",
    "smoothed_differences_fair = average_differences_fair.rolling(window=3, center=True, min_periods=1).mean()"
   ],
   "id": "b2c58d652056d96e",
   "outputs": [],
   "execution_count": 17
  },
  {
   "metadata": {
    "ExecuteTime": {
     "end_time": "2025-04-16T09:45:01.581438Z",
     "start_time": "2025-04-16T09:44:56.865605Z"
    }
   },
   "cell_type": "code",
   "source": [
    "# Define common grid\n",
    "x_grid = np.linspace(0, 1, 500)\n",
    "tau = 0.7\n",
    "\n",
    "# KDEs for biased data\n",
    "kde_red = gaussian_kde(red_data, bw_method=0.2)\n",
    "kde_blue = gaussian_kde(blue_data, bw_method=0.2)\n",
    "red_kde_vals = kde_red(x_grid)\n",
    "blue_kde_vals = kde_blue(x_grid)\n",
    "\n",
    "# Plot biased model\n",
    "fig, (ax1, ax2) = plt.subplots(2, 1, figsize=(4.5, 3), sharex=True, facecolor='white')\n",
    "\n",
    "# Plot KDEs\n",
    "ax1.plot(x_grid, blue_kde_vals, color='blue', label=f'$S=0$')\n",
    "ax1.plot(x_grid, red_kde_vals, color='red', label=f'$S=1$')\n",
    "\n",
    "ax1.fill_between(x_grid, red_kde_vals, blue_kde_vals, where=(red_kde_vals > blue_kde_vals),\n",
    "                 interpolate=True, color='red', alpha=0.1)\n",
    "ax1.fill_between(x_grid, red_kde_vals, blue_kde_vals, where=(blue_kde_vals > red_kde_vals),\n",
    "                 interpolate=True, color='blue', alpha=0.1)\n",
    "\n",
    "# Highlight region x in [tau, 1]\n",
    "mask = x_grid >= tau\n",
    "upper_kde = np.maximum(red_kde_vals, blue_kde_vals)\n",
    "ax1.fill_between(x_grid[mask], red_kde_vals[mask], blue_kde_vals[mask],\n",
    "                 interpolate=True, color='black', alpha=0.15)\n",
    "\n",
    "ax1.axvline(tau, color='grey', linestyle='--', linewidth=0.5)\n",
    "ax1.set_xlim(0, 1)\n",
    "ax1.set_ylim(0, 2.5)\n",
    "#ax1.set_xlabel(\"Predicted Probability\")\n",
    "ax1.set_ylabel(\"Density\")\n",
    "#ax1.set_title(\"Model output (biased)\")\n",
    "#ax1.legend()\n",
    "\n",
    "# Plot DP curve\n",
    "ax2.plot(tau_values, smoothed_differences, color='black')\n",
    "ax2.set_xlabel(\"Predicted score\")\n",
    "ax2.set_ylabel(\"$DP$\")\n",
    "ax2.set_xlim(0, 1)\n",
    "ax2.set_ylim(0,0.4)\n",
    "#ax2.axhline(0, color='black', linestyle='--', linewidth=0.5)\n",
    "ax2.axvline(tau, color='grey', linestyle='--', linewidth=0.5)\n",
    "ax2.set_xticks([0, 0.2, 0.4, 0.6, tau, 0.8, 1])\n",
    "ax2.set_xticklabels([r\"$0$\", r\"$0.2$\", r\"$0.4$\", r\"$0.6$\", r\"$\\tau$\", r\"$0.8$\", r\"$1$\"])\n",
    "\n",
    "plt.tight_layout()\n",
    "\n",
    "# save figure as pdf, png, jpg:\n",
    "plt.savefig(os.join(path, \"biased_model.pdf\"), format='pdf', bbox_inches='tight')\n",
    "plt.savefig(os.join(path, \"biased_model.png\"), format='png', bbox_inches='tight')\n",
    "plt.savefig(os.join(path, \"biased_model.jpg\"), format='jpg', bbox_inches='tight')\n",
    "plt.show()\n",
    "\n",
    "# KDEs for fair data\n",
    "kde_red_fair = gaussian_kde(red_data_fair, bw_method=0.2)\n",
    "kde_blue_fair = gaussian_kde(blue_data_fair, bw_method=0.2)\n",
    "red_kde_vals_fair = kde_red_fair(x_grid)\n",
    "blue_kde_vals_fair = kde_blue_fair(x_grid)\n",
    "\n",
    "# Plot fair model\n",
    "fig, (ax1, ax2) = plt.subplots(2, 1, figsize=(5, 3), sharex=True)\n",
    "\n",
    "# Plot KDEs\n",
    "ax1.plot(x_grid, blue_kde_vals_fair, color='blue', label=f'$S=0$')\n",
    "ax1.plot(x_grid, red_kde_vals_fair, color='red', label=f'$S=1$')\n",
    "\n",
    "ax1.fill_between(x_grid, red_kde_vals_fair, blue_kde_vals_fair, where=(red_kde_vals_fair > blue_kde_vals_fair),\n",
    "                 interpolate=True, color='red', alpha=0.1)\n",
    "ax1.fill_between(x_grid, red_kde_vals_fair, blue_kde_vals_fair, where=(blue_kde_vals_fair > red_kde_vals_fair),\n",
    "                 interpolate=True, color='blue', alpha=0.1)\n",
    "\n",
    "# Highlight region x in [tau, 1]\n",
    "mask = x_grid >= tau\n",
    "upper_kde_fair = np.maximum(red_kde_vals_fair, blue_kde_vals_fair)\n",
    "ax1.fill_between(x_grid[mask], red_kde_vals_fair[mask], blue_kde_vals_fair[mask],\n",
    "                 interpolate=True, color='black', alpha=0.15)\n",
    "\n",
    "ax1.axvline(tau, color='grey', linestyle='--', linewidth=0.5)\n",
    "ax1.set_xlim(0, 1)\n",
    "ax1.set_ylim(0, 2.5)\n",
    "#ax1.set_xlabel(\"Predicted Probability\")\n",
    "ax1.set_ylabel(\"Density\")\n",
    "#ax1.set_title(\"Model output (decision-centric fairness)\")\n",
    "#ax1.legend(loc='center left', bbox_to_anchor=(1, 0.5))\n",
    "\n",
    "# Plot DP curve\n",
    "ax2.plot(tau_values, smoothed_differences_fair, color='black')\n",
    "ax2.set_xlabel(\"Predicted score\")\n",
    "ax2.set_ylabel(\"$DP$\")\n",
    "ax2.set_xlim(0, 1)\n",
    "ax2.set_ylim(0,0.4)\n",
    "ax2.axvline(tau, color='grey', linestyle='--', linewidth=0.5)\n",
    "ax2.set_xticks([0, 0.2, 0.4, 0.6, tau, 0.8, 1])\n",
    "ax2.set_xticklabels([r\"$0$\", r\"$0.2$\", r\"$0.4$\", r\"$0.6$\", r\"$\\tau$\", r\"$0.8$\", r\"$1$\"])\n",
    "\n",
    "#plt.tight_layout()\n",
    "\n",
    "# save figure as pdf, png, jpg:\n",
    "plt.savefig(os.join(path, \"fair_model.pdf\"), format='pdf', bbox_inches='tight')\n",
    "plt.savefig(os.join(path, \"fair_model.png\"), format='png', bbox_inches='tight')\n",
    "plt.savefig(os.join(path, \"fair_model.jpg\"), format='jpg', bbox_inches='tight')\n",
    "\n",
    "plt.show()\n",
    "\n"
   ],
   "id": "38c340aa1ca16fc6",
   "outputs": [
    {
     "data": {
      "text/plain": [
       "<Figure size 450x300 with 2 Axes>"
      ],
      "image/png": "[encoded data removed]"
     },
     "metadata": {},
     "output_type": "display_data"
    },
    {
     "data": {
      "text/plain": [
       "<Figure size 500x300 with 2 Axes>"
      ],
      "image/png": "[encoded data removed]"
     },
     "metadata": {},
     "output_type": "display_data"
    }
   ],
   "execution_count": 18
  },
  {
   "metadata": {
    "ExecuteTime": {
     "end_time": "2025-04-16T09:45:01.629435Z",
     "start_time": "2025-04-16T09:45:01.615438Z"
    }
   },
   "cell_type": "code",
   "source": "",
   "id": "4aee9d790e3ecb12",
   "outputs": [],
   "execution_count": null
  }
 ],
 "metadata": {
  "kernelspec": {
   "display_name": "Python 3",
   "language": "python",
   "name": "python3"
  },
  "language_info": {
   "codemirror_mode": {
    "name": "ipython",
    "version": 2
   },
   "file_extension": ".py",
   "mimetype": "text/x-python",
   "name": "python",
   "nbconvert_exporter": "python",
   "pygments_lexer": "ipython2",
   "version": "2.7.6"
  }
 },
 "nbformat": 4,
 "nbformat_minor": 5
}
